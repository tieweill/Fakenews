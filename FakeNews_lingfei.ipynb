{
 "cells": [
  {
   "cell_type": "code",
   "execution_count": 1,
   "metadata": {
    "collapsed": true
   },
   "outputs": [],
   "source": [
    "# 导入程序所需要的程序包\n",
    "\n",
    "#抓取网页内容用的程序包\n",
    "import json\n",
    "#import requests\n",
    "\n",
    "#PyTorch用的包\n",
    "import torch\n",
    "import torch.nn as nn\n",
    "import torch.optim\n",
    "from torch.autograd import Variable\n",
    "\n",
    "# 自然语言处理相关的包\n",
    "import re #正则表达式的包\n",
    "import jieba #结巴分词包\n",
    "from collections import Counter #搜集器，可以让统计词频更简单\n",
    "\n",
    "#绘图、计算用的程序包\n",
    "import matplotlib.pyplot as plt\n",
    "import numpy as np\n",
    "%matplotlib inline"
   ]
  },
  {
   "cell_type": "code",
   "execution_count": 7,
   "metadata": {},
   "outputs": [],
   "source": [
    "import gzip, json, re\n",
    "from collections import defaultdict, Counter\n",
    "from os import listdir\n",
    "import sys\n",
    "import pylab as plt\n",
    "import matplotlib.cm as cm\n",
    "import numpy as np\n",
    "import random\n",
    "from datetime import datetime\n",
    "import statsmodels.api as sm\n",
    "import time\n",
    "from copy import deepcopy\n",
    "from itertools import groupby\n",
    "import itertools\n",
    "import networkx as nx\n",
    "from sklearn import manifold\n",
    "import gensim\n",
    "from scipy import spatial\n",
    "from scipy.stats.stats import pearsonr\n",
    "import matplotlib as mpl\n",
    "from sklearn import cluster, covariance, manifold\n",
    "from sklearn.manifold import TSNE,SpectralEmbedding,MDS,Isomap,LocallyLinearEmbedding\n",
    "import pandas as pd\n",
    "%matplotlib inline\n",
    "\n",
    "\n",
    "def flushPrint(www):\n",
    "    sys.stdout.write('\\r')\n",
    "    sys.stdout.write('%s' % www)\n",
    "    sys.stdout.flush()"
   ]
  },
  {
   "cell_type": "code",
   "execution_count": 31,
   "metadata": {},
   "outputs": [
    {
     "data": {
      "text/html": [
       "<div>\n",
       "<table border=\"1\" class=\"dataframe\">\n",
       "  <thead>\n",
       "    <tr style=\"text-align: right;\">\n",
       "      <th></th>\n",
       "      <th>id</th>\n",
       "      <th>title</th>\n",
       "      <th>author</th>\n",
       "      <th>text</th>\n",
       "      <th>label</th>\n",
       "    </tr>\n",
       "  </thead>\n",
       "  <tbody>\n",
       "    <tr>\n",
       "      <th>0</th>\n",
       "      <td>0</td>\n",
       "      <td>House Dem Aide: We Didn’t Even See Comey’s Let...</td>\n",
       "      <td>Darrell Lucus</td>\n",
       "      <td>House Dem Aide: We Didn’t Even See Comey’s Let...</td>\n",
       "      <td>1</td>\n",
       "    </tr>\n",
       "    <tr>\n",
       "      <th>1</th>\n",
       "      <td>1</td>\n",
       "      <td>FLYNN: Hillary Clinton, Big Woman on Campus - ...</td>\n",
       "      <td>Daniel J. Flynn</td>\n",
       "      <td>Ever get the feeling your life circles the rou...</td>\n",
       "      <td>0</td>\n",
       "    </tr>\n",
       "    <tr>\n",
       "      <th>2</th>\n",
       "      <td>2</td>\n",
       "      <td>Why the Truth Might Get You Fired</td>\n",
       "      <td>Consortiumnews.com</td>\n",
       "      <td>Why the Truth Might Get You Fired October 29, ...</td>\n",
       "      <td>1</td>\n",
       "    </tr>\n",
       "    <tr>\n",
       "      <th>3</th>\n",
       "      <td>3</td>\n",
       "      <td>15 Civilians Killed In Single US Airstrike Hav...</td>\n",
       "      <td>Jessica Purkiss</td>\n",
       "      <td>Videos 15 Civilians Killed In Single US Airstr...</td>\n",
       "      <td>1</td>\n",
       "    </tr>\n",
       "    <tr>\n",
       "      <th>4</th>\n",
       "      <td>4</td>\n",
       "      <td>Iranian woman jailed for fictional unpublished...</td>\n",
       "      <td>Howard Portnoy</td>\n",
       "      <td>Print \\nAn Iranian woman has been sentenced to...</td>\n",
       "      <td>1</td>\n",
       "    </tr>\n",
       "  </tbody>\n",
       "</table>\n",
       "</div>"
      ],
      "text/plain": [
       "   id                                              title              author  \\\n",
       "0   0  House Dem Aide: We Didn’t Even See Comey’s Let...       Darrell Lucus   \n",
       "1   1  FLYNN: Hillary Clinton, Big Woman on Campus - ...     Daniel J. Flynn   \n",
       "2   2                  Why the Truth Might Get You Fired  Consortiumnews.com   \n",
       "3   3  15 Civilians Killed In Single US Airstrike Hav...     Jessica Purkiss   \n",
       "4   4  Iranian woman jailed for fictional unpublished...      Howard Portnoy   \n",
       "\n",
       "                                                text  label  \n",
       "0  House Dem Aide: We Didn’t Even See Comey’s Let...      1  \n",
       "1  Ever get the feeling your life circles the rou...      0  \n",
       "2  Why the Truth Might Get You Fired October 29, ...      1  \n",
       "3  Videos 15 Civilians Killed In Single US Airstr...      1  \n",
       "4  Print \\nAn Iranian woman has been sentenced to...      1  "
      ]
     },
     "execution_count": 31,
     "metadata": {},
     "output_type": "execute_result"
    }
   ],
   "source": [
    "df=pd.read_csv('/Users/lingfeiw/Documents/teaching/nanjingU/kaggle_fakenews/train.csv')\n",
    "df=df.fillna(' ')\n",
    "df.head()"
   ]
  },
  {
   "cell_type": "code",
   "execution_count": 45,
   "metadata": {
    "collapsed": true
   },
   "outputs": [],
   "source": [
    "from nltk.corpus import stopwords\n",
    "from nltk.tokenize import sent_tokenize, word_tokenize\n",
    "import nltk"
   ]
  },
  {
   "cell_type": "code",
   "execution_count": 171,
   "metadata": {},
   "outputs": [
    {
     "name": "stdout",
     "output_type": "stream",
     "text": [
      "208"
     ]
    }
   ],
   "source": [
    "W={}\n",
    "stopset = set(stopwords.words('english'))\n",
    "d=[]\n",
    "l=[]\n",
    "n=0\n",
    "m=0\n",
    "for title,author,text,label in zip(df['title'],df['author'],df['text'],df['label']):\n",
    "    m+=1\n",
    "    if m%100==0:\n",
    "        flushPrint(m/100)#208\n",
    "    s=title+' '+author+' '+text\n",
    "    tokens=word_tokenize(s.decode('ascii','ignore').lower())\n",
    "    tokens = [z for z in tokens if not z in stopset and len(z)>1]\n",
    "    k=[]\n",
    "    data=[(j,f) for j,f in Counter(tokens).items() if f>1]\n",
    "    if data:\n",
    "        total=float(sum(zip(*data)[1]))\n",
    "        for j,f in data:\n",
    "            if j not in W:\n",
    "                W[j]=n\n",
    "                n+=1\n",
    "            k.append([W[j],f/total])\n",
    "        d.append(k)\n",
    "        l.append(label)"
   ]
  },
  {
   "cell_type": "code",
   "execution_count": 159,
   "metadata": {},
   "outputs": [
    {
     "data": {
      "text/plain": [
       "[[0, 0.02608695652173913],\n",
       " [1, 0.008695652173913044],\n",
       " [2, 0.008695652173913044],\n",
       " [3, 0.017391304347826087],\n",
       " [4, 0.013043478260869565],\n",
       " [5, 0.013043478260869565],\n",
       " [6, 0.008695652173913044],\n",
       " [7, 0.06521739130434782],\n",
       " [8, 0.013043478260869565],\n",
       " [9, 0.008695652173913044],\n",
       " [10, 0.013043478260869565],\n",
       " [11, 0.008695652173913044],\n",
       " [12, 0.021739130434782608],\n",
       " [13, 0.008695652173913044],\n",
       " [14, 0.008695652173913044],\n",
       " [15, 0.008695652173913044],\n",
       " [16, 0.013043478260869565],\n",
       " [17, 0.034782608695652174],\n",
       " [18, 0.013043478260869565],\n",
       " [19, 0.030434782608695653],\n",
       " [20, 0.017391304347826087],\n",
       " [21, 0.013043478260869565],\n",
       " [22, 0.008695652173913044],\n",
       " [23, 0.008695652173913044],\n",
       " [24, 0.030434782608695653],\n",
       " [25, 0.013043478260869565],\n",
       " [26, 0.02608695652173913],\n",
       " [27, 0.017391304347826087],\n",
       " [28, 0.008695652173913044],\n",
       " [29, 0.021739130434782608],\n",
       " [30, 0.008695652173913044],\n",
       " [31, 0.017391304347826087],\n",
       " [32, 0.013043478260869565],\n",
       " [33, 0.008695652173913044],\n",
       " [34, 0.013043478260869565],\n",
       " [35, 0.030434782608695653],\n",
       " [36, 0.008695652173913044],\n",
       " [37, 0.013043478260869565],\n",
       " [38, 0.008695652173913044],\n",
       " [39, 0.021739130434782608],\n",
       " [40, 0.017391304347826087],\n",
       " [41, 0.008695652173913044],\n",
       " [42, 0.008695652173913044],\n",
       " [43, 0.008695652173913044],\n",
       " [44, 0.008695652173913044],\n",
       " [45, 0.013043478260869565],\n",
       " [46, 0.008695652173913044],\n",
       " [47, 0.013043478260869565],\n",
       " [48, 0.013043478260869565],\n",
       " [49, 0.030434782608695653],\n",
       " [50, 0.02608695652173913],\n",
       " [51, 0.008695652173913044],\n",
       " [52, 0.008695652173913044],\n",
       " [53, 0.013043478260869565],\n",
       " [54, 0.008695652173913044],\n",
       " [55, 0.008695652173913044],\n",
       " [56, 0.008695652173913044],\n",
       " [57, 0.017391304347826087],\n",
       " [58, 0.008695652173913044],\n",
       " [59, 0.008695652173913044],\n",
       " [60, 0.034782608695652174],\n",
       " [61, 0.008695652173913044],\n",
       " [62, 0.008695652173913044],\n",
       " [63, 0.008695652173913044],\n",
       " [64, 0.013043478260869565],\n",
       " [65, 0.02608695652173913]]"
      ]
     },
     "execution_count": 159,
     "metadata": {},
     "output_type": "execute_result"
    }
   ],
   "source": [
    "d[0]"
   ]
  },
  {
   "cell_type": "code",
   "execution_count": 156,
   "metadata": {},
   "outputs": [
    {
     "data": {
      "text/plain": [
       "66510"
      ]
     },
     "execution_count": 156,
     "metadata": {},
     "output_type": "execute_result"
    }
   ],
   "source": [
    "len(w)"
   ]
  },
  {
   "cell_type": "code",
   "execution_count": 155,
   "metadata": {},
   "outputs": [
    {
     "data": {
      "text/plain": [
       "[(u'fawn', 58952), (u'soestdijk', 59596), (u'glisson', 52563)]"
      ]
     },
     "execution_count": 155,
     "metadata": {},
     "output_type": "execute_result"
    }
   ],
   "source": [
    "w.items()[:3]"
   ]
  },
  {
   "cell_type": "code",
   "execution_count": 157,
   "metadata": {},
   "outputs": [
    {
     "data": {
      "text/plain": [
       "(20285, 20285)"
      ]
     },
     "execution_count": 157,
     "metadata": {},
     "output_type": "execute_result"
    }
   ],
   "source": [
    "len(d),len(l)"
   ]
  },
  {
   "cell_type": "code",
   "execution_count": 158,
   "metadata": {},
   "outputs": [
    {
     "data": {
      "text/plain": [
       "Counter({0: 10385, 1: 9900})"
      ]
     },
     "execution_count": 158,
     "metadata": {},
     "output_type": "execute_result"
    }
   ],
   "source": [
    "Counter(l)"
   ]
  },
  {
   "cell_type": "code",
   "execution_count": 117,
   "metadata": {
    "collapsed": true
   },
   "outputs": [],
   "source": [
    "def sentence2vec(sentenceData, dictionary):\n",
    "    vector = np.zeros(len(dictionary))\n",
    "    for j,f in sentenceData:\n",
    "        vector[j] =f\n",
    "    return vector"
   ]
  },
  {
   "cell_type": "code",
   "execution_count": 118,
   "metadata": {
    "collapsed": true
   },
   "outputs": [],
   "source": [
    "dataset = [sentence2vec(j, w) for j in d] #数据集\n",
    "labels = l #标签"
   ]
  },
  {
   "cell_type": "code",
   "execution_count": 119,
   "metadata": {},
   "outputs": [],
   "source": [
    "indices = np.random.permutation(len(dataset))\n",
    "\n",
    "#重新根据打乱的下标生成数据集dataset，标签集labels，以及对应的原始句子sentences\n",
    "dataset = [dataset[i] for i in indices]\n",
    "labels = [labels[i] for i in indices]\n",
    "\n",
    "#对整个数据集进行划分，分为：训练集、校准集和测试集，其中校准和测试集合的长度都是整个数据集的10分之一\n",
    "test_size = len(dataset) // 10\n",
    "train_data = dataset[2 * test_size :]\n",
    "train_label = labels[2 * test_size :]\n",
    "\n",
    "valid_data = dataset[: test_size]\n",
    "valid_label = labels[: test_size]\n",
    "\n",
    "test_data = dataset[test_size : 2 * test_size]\n",
    "test_label = labels[test_size : 2 * test_size]"
   ]
  },
  {
   "cell_type": "code",
   "execution_count": 160,
   "metadata": {},
   "outputs": [
    {
     "data": {
      "text/plain": [
       "(16229, 16229)"
      ]
     },
     "execution_count": 160,
     "metadata": {},
     "output_type": "execute_result"
    }
   ],
   "source": [
    "len(train_data),len(train_label)"
   ]
  },
  {
   "cell_type": "code",
   "execution_count": 161,
   "metadata": {},
   "outputs": [
    {
     "data": {
      "text/plain": [
       "Counter({0: 8269, 1: 7960})"
      ]
     },
     "execution_count": 161,
     "metadata": {},
     "output_type": "execute_result"
    }
   ],
   "source": [
    "Counter(train_label)"
   ]
  },
  {
   "cell_type": "code",
   "execution_count": 143,
   "metadata": {},
   "outputs": [],
   "source": [
    "\n",
    "# 输入维度为词典的大小：每一段评论的词袋模型\n",
    "model = nn.Sequential(\n",
    "    nn.Linear(len(w), 10),\n",
    "    nn.ReLU(),\n",
    "    nn.Linear(10, 2),\n",
    "    nn.LogSoftmax(),\n",
    ")\n",
    "\n",
    "def rightness(predictions, labels):\n",
    "    \"\"\"计算预测错误率的函数，其中predictions是模型给出的一组预测结果，batch_size行num_classes列的矩阵，labels是数据之中的正确答案\"\"\"\n",
    "    pred = torch.max(predictions.data, 1)[1] # 对于任意一行（一个样本）的输出值的第1个维度，求最大，得到每一行的最大元素的下标\n",
    "    rights = pred.eq(labels.data.view_as(pred)).sum() #将下标与labels中包含的类别进行比较，并累计得到比较正确的数量\n",
    "    return rights, len(labels) #返回正确的数量和这一次一共比较了多少元素"
   ]
  },
  {
   "cell_type": "code",
   "execution_count": 144,
   "metadata": {},
   "outputs": [
    {
     "name": "stdout",
     "output_type": "stream",
     "text": [
      "1620\n",
      "1621\n"
     ]
    }
   ],
   "source": [
    "# 损失函数为交叉熵\n",
    "cost = torch.nn.NLLLoss()\n",
    "# 优化算法为Adam，可以自动调节学习率\n",
    "optimizer = torch.optim.Adam(model.parameters(), lr = 0.01)\n",
    "records = []\n",
    "\n",
    "#循环10个Epoch\n",
    "losses = []\n",
    "for epoch in range(2):\n",
    "    ls=[]\n",
    "    m=0\n",
    "    for i, data in enumerate(zip(train_data, train_label)):\n",
    "        m+=1\n",
    "        if m%100==0:\n",
    "            flushPrint(m/100)#162\n",
    "        x, y = data\n",
    "        \n",
    "        # 需要将输入的数据进行适当的变形，主要是要多出一个batch_size的维度，也即第一个为1的维度\n",
    "        x = Variable(torch.FloatTensor(x).view(1,-1))\n",
    "        # x的尺寸：batch_size=1, len_dictionary\n",
    "        # 标签也要加一层外衣以变成1*1的张量\n",
    "        y = Variable(torch.LongTensor(np.array([y])))\n",
    "        # y的尺寸：batch_size=1, 1\n",
    "        \n",
    "        # 清空梯度\n",
    "        optimizer.zero_grad()\n",
    "        # 模型预测\n",
    "        predict = model(x)\n",
    "        # 计算损失函数\n",
    "        loss = cost(predict, y)\n",
    "        # 将损失函数数值加入到列表中\n",
    "        ls.append(loss.data.numpy()[0])\n",
    "        # 开始进行梯度反传\n",
    "        loss.backward()\n",
    "        # 开始对参数进行一步优化\n",
    "        optimizer.step()\n",
    "    losses.append(np.mean(ls))\n",
    "    print(epoch) "
   ]
  },
  {
   "cell_type": "code",
   "execution_count": 145,
   "metadata": {},
   "outputs": [
    {
     "data": {
      "text/plain": [
       "[<matplotlib.lines.Line2D at 0x1397af890>]"
      ]
     },
     "execution_count": 145,
     "metadata": {},
     "output_type": "execute_result"
    },
    {
     "data": {
      "image/png": "[encoded data removed]",
      "text/plain": [
       "<matplotlib.figure.Figure at 0x1442b2b90>"
      ]
     },
     "metadata": {},
     "output_type": "display_data"
    }
   ],
   "source": [
    "plt.plot(losses ,'bo-')"
   ]
  },
  {
   "cell_type": "code",
   "execution_count": 146,
   "metadata": {},
   "outputs": [
    {
     "data": {
      "text/plain": [
       "0.9388560157790927"
      ]
     },
     "execution_count": 146,
     "metadata": {},
     "output_type": "execute_result"
    }
   ],
   "source": [
    "#在测试集上分批运行，并计算总的正确率\n",
    "vals = [] #记录准确率所用列表\n",
    "\n",
    "#对测试数据集进行循环\n",
    "for data, target in zip(test_data, test_label):\n",
    "    data, target = Variable(torch.FloatTensor(data).view(1,-1)), Variable(torch.LongTensor(np.array([target])))\n",
    "    output = model(data) #将特征数据喂入网络，得到分类的输出\n",
    "    val = rightness(output, target) #获得正确样本数以及总样本数\n",
    "    vals.append(val) #记录结果\n",
    "\n",
    "#计算准确率\n",
    "rights = (sum([tup[0] for tup in vals]), sum([tup[1] for tup in vals]))\n",
    "right_rate = 1.0 * rights[0] / rights[1]\n",
    "right_rate"
   ]
  },
  {
   "cell_type": "code",
   "execution_count": 162,
   "metadata": {},
   "outputs": [
    {
     "data": {
      "text/plain": [
       "<matplotlib.text.Text at 0x15a0bd190>"
      ]
     },
     "execution_count": 162,
     "metadata": {},
     "output_type": "execute_result"
    },
    {
     "data": {
      "image/png": "[encoded data removed]",
      "text/plain": [
       "<matplotlib.figure.Figure at 0x1485eac90>"
      ]
     },
     "metadata": {},
     "output_type": "display_data"
    }
   ],
   "source": [
    "# 绘制出第二个全链接层的权重大小\n",
    "# model[2]即提取第2层，网络一共4层，第0层为线性神经元，第1层为ReLU，第2层为第二层神经原链接，第3层为logsoftmax\n",
    "plt.figure(figsize = (10, 7))\n",
    "for i in range(model[2].weight.size()[0]):\n",
    "    weights = model[2].weight[i].data.numpy()\n",
    "    plt.plot(weights, 'o-', label ='the '+ str(i)+'th neuron in layer 2')\n",
    "plt.legend()\n",
    "plt.xlabel('Neuron in Hidden Layer')\n",
    "plt.ylabel('Weights')"
   ]
  },
  {
   "cell_type": "code",
   "execution_count": 172,
   "metadata": {
    "collapsed": true
   },
   "outputs": [],
   "source": [
    "W1= dict((v,k) for k,v in W.items())"
   ]
  },
  {
   "cell_type": "code",
   "execution_count": null,
   "metadata": {
    "collapsed": true
   },
   "outputs": [],
   "source": []
  },
  {
   "cell_type": "code",
   "execution_count": 184,
   "metadata": {},
   "outputs": [
    {
     "name": "stdout",
     "output_type": "stream",
     "text": [
      "\n",
      "\n",
      "第2个神经元\n",
      "max:\n",
      "u.s.\n",
      "'s\n",
      "''\n",
      "``\n",
      "october\n",
      "president-elect\n",
      "thus\n",
      "n't\n",
      "literally\n",
      "hillarys\n",
      "etc\n",
      "survival\n",
      "8th\n",
      "al-qaeda\n",
      "invasion\n",
      "protectors\n",
      "no-fly\n",
      "simply\n",
      "vis\n",
      "saker\n",
      "http\n",
      "dapl\n",
      "massive\n",
      "justify\n",
      "snip\n",
      "vs.\n",
      "so-called\n",
      "right-wing\n",
      "gary\n",
      "doj\n",
      "please\n",
      "advertisement\n",
      "unrest\n",
      "us-led\n",
      "9/11\n",
      "anyone\n",
      "una\n",
      "outlook\n",
      "propaganda\n",
      "e-mail\n",
      "cops\n",
      "breaking\n",
      "hatch\n",
      "cop\n",
      "consciousness\n",
      "th\n",
      "blame\n",
      "steal\n",
      "click\n",
      "______________\n",
      "______________\n",
      "______________\n",
      "min:\n",
      "breitbart\n",
      "000\n",
      "u.\n",
      "ms.\n",
      "m.\n",
      "s.\n",
      "a.\n",
      "2017\n",
      "c.\n",
      "hanchett\n",
      "i.\n",
      "ian\n",
      "pam\n",
      "b.\n",
      "huston\n",
      "jerome\n",
      "mr.\n",
      "d.\n",
      "hudson\n",
      "todd\n",
      "o.\n",
      "jeff\n",
      "museum\n",
      "inauguration\n",
      "baker\n",
      "nussbaum\n",
      "islamic\n",
      "key\n",
      "trent\n",
      "gwinn\n",
      "coulter\n",
      "quickly\n",
      "pollak\n",
      "march\n",
      "miles\n",
      "klein\n",
      "critics\n",
      "delingpole\n",
      "features\n",
      "f.\n",
      "january\n",
      "twitter\n",
      "week\n",
      "poor\n",
      "ann\n",
      "kew\n",
      "countrys\n",
      "com\n",
      "warner\n",
      "pic\n"
     ]
    }
   ],
   "source": [
    "#for i in range(len(model[0].weight)):\n",
    "i=2\n",
    "k=50\n",
    "print('\\n')\n",
    "print('第{}个神经元'.format(i))\n",
    "print('max:')\n",
    "st = sorted([(w,i) for i,w in enumerate(model[0].weight[i].data.numpy())])\n",
    "for i in range(1, k):\n",
    "    word = W1[st[-i][1]]\n",
    "    print(word)\n",
    "print('______________')\n",
    "print('______________')\n",
    "print('______________')\n",
    "print('min:')\n",
    "for i in range(k):\n",
    "    word = W1[st[i][1]]\n",
    "    print(word)"
   ]
  },
  {
   "cell_type": "code",
   "execution_count": 182,
   "metadata": {},
   "outputs": [
    {
     "data": {
      "text/plain": [
       "Variable containing:\n",
       "  0.0000 -74.9621\n",
       "[torch.FloatTensor of size 1x2]"
      ]
     },
     "execution_count": 182,
     "metadata": {},
     "output_type": "execute_result"
    }
   ],
   "source": [
    "x=np.zeros(len(W))\n",
    "x[W['breitbart']]=1\n",
    "x = Variable(torch.FloatTensor(x).view(1,-1))\n",
    "predict = model(x)\n",
    "predict"
   ]
  },
  {
   "cell_type": "code",
   "execution_count": null,
   "metadata": {
    "collapsed": true
   },
   "outputs": [],
   "source": []
  }
 ],
 "metadata": {
  "kernelspec": {
   "display_name": "Python [anaconda]",
   "language": "python",
   "name": "Python [anaconda]"
  },
  "language_info": {
   "codemirror_mode": {
    "name": "ipython",
    "version": 2
   },
   "file_extension": ".py",
   "mimetype": "text/x-python",
   "name": "python",
   "nbconvert_exporter": "python",
   "pygments_lexer": "ipython2",
   "version": "2.7.6"
  },
  "toc": {
   "nav_menu": {},
   "number_sections": true,
   "sideBar": true,
   "skip_h1_title": false,
   "toc_cell": false,
   "toc_position": {},
   "toc_section_display": "block",
   "toc_window_display": false
  }
 },
 "nbformat": 4,
 "nbformat_minor": 1
}
