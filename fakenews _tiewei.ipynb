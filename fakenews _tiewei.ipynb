{
 "cells": [
  {
   "cell_type": "code",
   "execution_count": 1,
   "metadata": {
    "ExecuteTime": {
     "end_time": "2019-01-18T10:07:57.009220Z",
     "start_time": "2019-01-18T10:07:56.996783Z"
    },
    "collapsed": true
   },
   "outputs": [],
   "source": [
    "import json\n",
    "import requests\n",
    "import pandas as pd\n",
    "import string\n",
    "\n",
    "import torch\n",
    "import torch.nn as nn\n",
    "import torch.optim\n",
    "from torch.autograd import Variable\n",
    "\n",
    "import re \n",
    "from collections import Counter #搜集器，可以让统计词频更简单\n",
    "\n",
    "import matplotlib.pyplot as plt\n",
    "import numpy as np\n",
    "%matplotlib inline\n"
   ]
  },
  {
   "cell_type": "code",
   "execution_count": 45,
   "metadata": {
    "collapsed": true
   },
   "outputs": [],
   "source": [
    "from nltk.corpus import stopwords\n",
    "from nltk.tokenize import sent_tokenize, word_tokenize\n",
    "import nltk"
   ]
  },
  {
   "cell_type": "code",
   "execution_count": 8,
   "metadata": {
    "ExecuteTime": {
     "end_time": "2019-01-18T10:07:59.393315Z",
     "start_time": "2019-01-18T10:07:58.515497Z"
    },
    "collapsed": true
   },
   "outputs": [],
   "source": [
    "train=pd.read_csv('D:/work/homework/fakenews/train.csv')\n",
    "test=pd.read_csv('D:/work/homework/fakenews/test.csv')"
   ]
  },
  {
   "cell_type": "code",
   "execution_count": 9,
   "metadata": {},
   "outputs": [
    {
     "name": "stdout",
     "output_type": "stream",
     "text": [
      "<class 'pandas.core.frame.DataFrame'>\n",
      "RangeIndex: 20800 entries, 0 to 20799\n",
      "Data columns (total 5 columns):\n",
      "id        20800 non-null int64\n",
      "title     20242 non-null object\n",
      "author    18843 non-null object\n",
      "text      20761 non-null object\n",
      "label     20800 non-null int64\n",
      "dtypes: int64(2), object(3)\n",
      "memory usage: 812.6+ KB\n"
     ]
    }
   ],
   "source": [
    "train.info()"
   ]
  },
  {
   "cell_type": "code",
   "execution_count": 10,
   "metadata": {},
   "outputs": [
    {
     "data": {
      "text/html": [
       "<div>\n",
       "<style scoped>\n",
       "    .dataframe tbody tr th:only-of-type {\n",
       "        vertical-align: middle;\n",
       "    }\n",
       "\n",
       "    .dataframe tbody tr th {\n",
       "        vertical-align: top;\n",
       "    }\n",
       "\n",
       "    .dataframe thead th {\n",
       "        text-align: right;\n",
       "    }\n",
       "</style>\n",
       "<table border=\"1\" class=\"dataframe\">\n",
       "  <thead>\n",
       "    <tr style=\"text-align: right;\">\n",
       "      <th></th>\n",
       "      <th>id</th>\n",
       "      <th>title</th>\n",
       "      <th>author</th>\n",
       "      <th>text</th>\n",
       "      <th>label</th>\n",
       "    </tr>\n",
       "  </thead>\n",
       "  <tbody>\n",
       "    <tr>\n",
       "      <th>0</th>\n",
       "      <td>0</td>\n",
       "      <td>House Dem Aide: We Didn’t Even See Comey’s Let...</td>\n",
       "      <td>Darrell Lucus</td>\n",
       "      <td>House Dem Aide: We Didn’t Even See Comey’s Let...</td>\n",
       "      <td>1</td>\n",
       "    </tr>\n",
       "    <tr>\n",
       "      <th>1</th>\n",
       "      <td>1</td>\n",
       "      <td>FLYNN: Hillary Clinton, Big Woman on Campus - ...</td>\n",
       "      <td>Daniel J. Flynn</td>\n",
       "      <td>Ever get the feeling your life circles the rou...</td>\n",
       "      <td>0</td>\n",
       "    </tr>\n",
       "    <tr>\n",
       "      <th>2</th>\n",
       "      <td>2</td>\n",
       "      <td>Why the Truth Might Get You Fired</td>\n",
       "      <td>Consortiumnews.com</td>\n",
       "      <td>Why the Truth Might Get You Fired October 29, ...</td>\n",
       "      <td>1</td>\n",
       "    </tr>\n",
       "    <tr>\n",
       "      <th>3</th>\n",
       "      <td>3</td>\n",
       "      <td>15 Civilians Killed In Single US Airstrike Hav...</td>\n",
       "      <td>Jessica Purkiss</td>\n",
       "      <td>Videos 15 Civilians Killed In Single US Airstr...</td>\n",
       "      <td>1</td>\n",
       "    </tr>\n",
       "    <tr>\n",
       "      <th>4</th>\n",
       "      <td>4</td>\n",
       "      <td>Iranian woman jailed for fictional unpublished...</td>\n",
       "      <td>Howard Portnoy</td>\n",
       "      <td>Print \\nAn Iranian woman has been sentenced to...</td>\n",
       "      <td>1</td>\n",
       "    </tr>\n",
       "    <tr>\n",
       "      <th>5</th>\n",
       "      <td>5</td>\n",
       "      <td>Jackie Mason: Hollywood Would Love Trump if He...</td>\n",
       "      <td>Daniel Nussbaum</td>\n",
       "      <td>In these trying times, Jackie Mason is the Voi...</td>\n",
       "      <td>0</td>\n",
       "    </tr>\n",
       "    <tr>\n",
       "      <th>6</th>\n",
       "      <td>6</td>\n",
       "      <td>Life: Life Of Luxury: Elton John’s 6 Favorite ...</td>\n",
       "      <td></td>\n",
       "      <td>Ever wonder how Britain’s most iconic pop pian...</td>\n",
       "      <td>1</td>\n",
       "    </tr>\n",
       "    <tr>\n",
       "      <th>7</th>\n",
       "      <td>7</td>\n",
       "      <td>Benoît Hamon Wins French Socialist Party’s Pre...</td>\n",
       "      <td>Alissa J. Rubin</td>\n",
       "      <td>PARIS  —   France chose an idealistic, traditi...</td>\n",
       "      <td>0</td>\n",
       "    </tr>\n",
       "    <tr>\n",
       "      <th>8</th>\n",
       "      <td>8</td>\n",
       "      <td>Excerpts From a Draft Script for Donald Trump’...</td>\n",
       "      <td></td>\n",
       "      <td>Donald J. Trump is scheduled to make a highly ...</td>\n",
       "      <td>0</td>\n",
       "    </tr>\n",
       "    <tr>\n",
       "      <th>9</th>\n",
       "      <td>9</td>\n",
       "      <td>A Back-Channel Plan for Ukraine and Russia, Co...</td>\n",
       "      <td>Megan Twohey and Scott Shane</td>\n",
       "      <td>A week before Michael T. Flynn resigned as nat...</td>\n",
       "      <td>0</td>\n",
       "    </tr>\n",
       "  </tbody>\n",
       "</table>\n",
       "</div>"
      ],
      "text/plain": [
       "   id                                              title  \\\n",
       "0   0  House Dem Aide: We Didn’t Even See Comey’s Let...   \n",
       "1   1  FLYNN: Hillary Clinton, Big Woman on Campus - ...   \n",
       "2   2                  Why the Truth Might Get You Fired   \n",
       "3   3  15 Civilians Killed In Single US Airstrike Hav...   \n",
       "4   4  Iranian woman jailed for fictional unpublished...   \n",
       "5   5  Jackie Mason: Hollywood Would Love Trump if He...   \n",
       "6   6  Life: Life Of Luxury: Elton John’s 6 Favorite ...   \n",
       "7   7  Benoît Hamon Wins French Socialist Party’s Pre...   \n",
       "8   8  Excerpts From a Draft Script for Donald Trump’...   \n",
       "9   9  A Back-Channel Plan for Ukraine and Russia, Co...   \n",
       "\n",
       "                         author  \\\n",
       "0                 Darrell Lucus   \n",
       "1               Daniel J. Flynn   \n",
       "2            Consortiumnews.com   \n",
       "3               Jessica Purkiss   \n",
       "4                Howard Portnoy   \n",
       "5               Daniel Nussbaum   \n",
       "6                                 \n",
       "7               Alissa J. Rubin   \n",
       "8                                 \n",
       "9  Megan Twohey and Scott Shane   \n",
       "\n",
       "                                                text  label  \n",
       "0  House Dem Aide: We Didn’t Even See Comey’s Let...      1  \n",
       "1  Ever get the feeling your life circles the rou...      0  \n",
       "2  Why the Truth Might Get You Fired October 29, ...      1  \n",
       "3  Videos 15 Civilians Killed In Single US Airstr...      1  \n",
       "4  Print \\nAn Iranian woman has been sentenced to...      1  \n",
       "5  In these trying times, Jackie Mason is the Voi...      0  \n",
       "6  Ever wonder how Britain’s most iconic pop pian...      1  \n",
       "7  PARIS  —   France chose an idealistic, traditi...      0  \n",
       "8  Donald J. Trump is scheduled to make a highly ...      0  \n",
       "9  A week before Michael T. Flynn resigned as nat...      0  "
      ]
     },
     "execution_count": 10,
     "metadata": {},
     "output_type": "execute_result"
    }
   ],
   "source": [
    "train=train.fillna(' ')\n",
    "train[:10]"
   ]
  },
  {
   "cell_type": "code",
   "execution_count": 37,
   "metadata": {
    "collapsed": true
   },
   "outputs": [],
   "source": [
    "train['total'] = train['title'] + ' ' +train['author']  #+ ' '+ train['text']"
   ]
  },
  {
   "cell_type": "code",
   "execution_count": 38,
   "metadata": {},
   "outputs": [
    {
     "data": {
      "text/html": [
       "<div>\n",
       "<style scoped>\n",
       "    .dataframe tbody tr th:only-of-type {\n",
       "        vertical-align: middle;\n",
       "    }\n",
       "\n",
       "    .dataframe tbody tr th {\n",
       "        vertical-align: top;\n",
       "    }\n",
       "\n",
       "    .dataframe thead th {\n",
       "        text-align: right;\n",
       "    }\n",
       "</style>\n",
       "<table border=\"1\" class=\"dataframe\">\n",
       "  <thead>\n",
       "    <tr style=\"text-align: right;\">\n",
       "      <th></th>\n",
       "      <th>id</th>\n",
       "      <th>title</th>\n",
       "      <th>author</th>\n",
       "      <th>text</th>\n",
       "      <th>label</th>\n",
       "      <th>total</th>\n",
       "    </tr>\n",
       "  </thead>\n",
       "  <tbody>\n",
       "    <tr>\n",
       "      <th>0</th>\n",
       "      <td>0</td>\n",
       "      <td>House Dem Aide: We Didn’t Even See Comey’s Let...</td>\n",
       "      <td>Darrell Lucus</td>\n",
       "      <td>House Dem Aide: We Didn’t Even See Comey’s Let...</td>\n",
       "      <td>1</td>\n",
       "      <td>House Dem Aide: We Didn’t Even See Comey’s Let...</td>\n",
       "    </tr>\n",
       "    <tr>\n",
       "      <th>1</th>\n",
       "      <td>1</td>\n",
       "      <td>FLYNN: Hillary Clinton, Big Woman on Campus - ...</td>\n",
       "      <td>Daniel J. Flynn</td>\n",
       "      <td>Ever get the feeling your life circles the rou...</td>\n",
       "      <td>0</td>\n",
       "      <td>FLYNN: Hillary Clinton, Big Woman on Campus - ...</td>\n",
       "    </tr>\n",
       "    <tr>\n",
       "      <th>2</th>\n",
       "      <td>2</td>\n",
       "      <td>Why the Truth Might Get You Fired</td>\n",
       "      <td>Consortiumnews.com</td>\n",
       "      <td>Why the Truth Might Get You Fired October 29, ...</td>\n",
       "      <td>1</td>\n",
       "      <td>Why the Truth Might Get You Fired Consortiumne...</td>\n",
       "    </tr>\n",
       "    <tr>\n",
       "      <th>3</th>\n",
       "      <td>3</td>\n",
       "      <td>15 Civilians Killed In Single US Airstrike Hav...</td>\n",
       "      <td>Jessica Purkiss</td>\n",
       "      <td>Videos 15 Civilians Killed In Single US Airstr...</td>\n",
       "      <td>1</td>\n",
       "      <td>15 Civilians Killed In Single US Airstrike Hav...</td>\n",
       "    </tr>\n",
       "    <tr>\n",
       "      <th>4</th>\n",
       "      <td>4</td>\n",
       "      <td>Iranian woman jailed for fictional unpublished...</td>\n",
       "      <td>Howard Portnoy</td>\n",
       "      <td>Print \\nAn Iranian woman has been sentenced to...</td>\n",
       "      <td>1</td>\n",
       "      <td>Iranian woman jailed for fictional unpublished...</td>\n",
       "    </tr>\n",
       "  </tbody>\n",
       "</table>\n",
       "</div>"
      ],
      "text/plain": [
       "   id                                              title              author  \\\n",
       "0   0  House Dem Aide: We Didn’t Even See Comey’s Let...       Darrell Lucus   \n",
       "1   1  FLYNN: Hillary Clinton, Big Woman on Campus - ...     Daniel J. Flynn   \n",
       "2   2                  Why the Truth Might Get You Fired  Consortiumnews.com   \n",
       "3   3  15 Civilians Killed In Single US Airstrike Hav...     Jessica Purkiss   \n",
       "4   4  Iranian woman jailed for fictional unpublished...      Howard Portnoy   \n",
       "\n",
       "                                                text  label  \\\n",
       "0  House Dem Aide: We Didn’t Even See Comey’s Let...      1   \n",
       "1  Ever get the feeling your life circles the rou...      0   \n",
       "2  Why the Truth Might Get You Fired October 29, ...      1   \n",
       "3  Videos 15 Civilians Killed In Single US Airstr...      1   \n",
       "4  Print \\nAn Iranian woman has been sentenced to...      1   \n",
       "\n",
       "                                               total  \n",
       "0  House Dem Aide: We Didn’t Even See Comey’s Let...  \n",
       "1  FLYNN: Hillary Clinton, Big Woman on Campus - ...  \n",
       "2  Why the Truth Might Get You Fired Consortiumne...  \n",
       "3  15 Civilians Killed In Single US Airstrike Hav...  \n",
       "4  Iranian woman jailed for fictional unpublished...  "
      ]
     },
     "execution_count": 38,
     "metadata": {},
     "output_type": "execute_result"
    }
   ],
   "source": [
    "train.head()"
   ]
  },
  {
   "cell_type": "code",
   "execution_count": 9,
   "metadata": {
    "collapsed": true
   },
   "outputs": [],
   "source": [
    "Title=train['title']"
   ]
  },
  {
   "cell_type": "code",
   "execution_count": 10,
   "metadata": {},
   "outputs": [
    {
     "data": {
      "text/plain": [
       "20800"
      ]
     },
     "execution_count": 10,
     "metadata": {},
     "output_type": "execute_result"
    }
   ],
   "source": [
    "len(Title)"
   ]
  },
  {
   "cell_type": "code",
   "execution_count": 39,
   "metadata": {},
   "outputs": [],
   "source": [
    "true_file2=train[train['label']==0]['total'].values\n",
    "fake_file2=train[train['label']==1]['total'].values"
   ]
  },
  {
   "cell_type": "code",
   "execution_count": 40,
   "metadata": {
    "collapsed": true
   },
   "outputs": [],
   "source": [
    "with open('D:/work/homework/fakenews/true_file2.txt','w',encoding='UTF-8') as f:\n",
    "    data=f.writelines([line+ '\\n' for line in true_file2])\n",
    "\n",
    "with open('D:/work/homework/fakenews/fake_file2.txt','w',encoding='UTF-8') as f:\n",
    "    data=f.writelines([line+ '\\n' for line in fake_file2])"
   ]
  },
  {
   "cell_type": "code",
   "execution_count": 41,
   "metadata": {
    "collapsed": true
   },
   "outputs": [],
   "source": [
    "# 将文本中的标点符号过滤掉\n",
    "def filter_punc(sentence):\n",
    "    for c in string.punctuation: #去标点 \n",
    "        sentence = sentence.replace(c, ' ')\n",
    "    return(sentence)"
   ]
  },
  {
   "cell_type": "code",
   "execution_count": 29,
   "metadata": {
    "collapsed": true
   },
   "outputs": [],
   "source": [
    "#未用，全部特征加进去本机跑不出来\n",
    "def Tfidf(corpus) :\n",
    "    vectorizer = CountVectorizer(stop_words='english')   #stop_words='english' \n",
    "    transformer = TfidfTransformer()\n",
    "    tfidf = transformer.fit_transform(vectorizer.fit_transform(corpus))  \n",
    "    words = vectorizer.get_feature_names()\n",
    "    return words"
   ]
  },
  {
   "cell_type": "code",
   "execution_count": 61,
   "metadata": {},
   "outputs": [],
   "source": [
    "#扫描所有的文本，分词、建立词典，分出正向还是负向的评论，is_filter可以过滤是否筛选掉标点符号\n",
    "def Prepare_data(good_file, bad_file, is_filter = True):\n",
    "#    stopset = set(stopwords.words('english'))\n",
    "    all_words = [] #存储所有的单词\n",
    "    pos_sentences = [] #存储正向的评论\n",
    "    neg_sentences = [] #存储负向的评论\n",
    "    with open(good_file, 'r',encoding='UTF-8') as fr:\n",
    "        for idx, line in enumerate(fr):\n",
    "            if is_filter:\n",
    "                #过滤标点符号\n",
    "                line = filter_punc(line)\n",
    "            #分词，去停用词\n",
    "            tokens=word_tokenize(line)\n",
    "            words = [z.lower() for z in tokens]\n",
    "            if len(words) > 0:\n",
    "                all_words += words\n",
    "                pos_sentences.append(words)\n",
    "    print('{0} 包含 {1} 行, {2} 个词.'.format(good_file, idx+1, len(all_words)))\n",
    "\n",
    "    count = len(all_words)\n",
    "    with open(bad_file, 'r',encoding='UTF-8') as fr:\n",
    "        for idx, line in enumerate(fr):\n",
    "            if is_filter:\n",
    "                line = filter_punc(line)\n",
    "            tokens=word_tokenize(line)\n",
    "            words = [z.lower() for z in tokens]\n",
    " #           words = [z for z in tokens if not z in stopset]\n",
    "            if len(words) > 0:\n",
    "                all_words += words\n",
    "                neg_sentences.append(words)\n",
    "    print('{0} 包含 {1} 行, {2} 个词.'.format(bad_file, idx+1, len(all_words)-count))\n",
    "\n",
    "    #建立词典，diction的每一项为{w:[id, 单词出现次数]}\n",
    "    diction = {}\n",
    "    cnt = Counter(all_words)\n",
    "    for word, freq in cnt.items():\n",
    "        diction[word] = [len(diction), freq]\n",
    "    print('字典大小：{}'.format(len(diction)))\n",
    "    return(pos_sentences, neg_sentences, diction)"
   ]
  },
  {
   "cell_type": "code",
   "execution_count": 52,
   "metadata": {
    "collapsed": true
   },
   "outputs": [],
   "source": [
    "good_file = 'D:/work/homework/fakenews/true_file2.txt'\n",
    "bad_file ='D:/work/homework/fakenews/fake_file2.txt'"
   ]
  },
  {
   "cell_type": "code",
   "execution_count": 57,
   "metadata": {},
   "outputs": [
    {
     "name": "stdout",
     "output_type": "stream",
     "text": [
      "[nltk_data] Downloading package punkt to\n",
      "[nltk_data]     C:\\Users\\Zachary\\AppData\\Roaming\\nltk_data...\n",
      "[nltk_data]   Unzipping tokenizers\\punkt.zip.\n"
     ]
    },
    {
     "data": {
      "text/plain": [
       "True"
      ]
     },
     "execution_count": 57,
     "metadata": {},
     "output_type": "execute_result"
    }
   ],
   "source": [
    "nltk.download('punkt')"
   ]
  },
  {
   "cell_type": "code",
   "execution_count": 62,
   "metadata": {},
   "outputs": [
    {
     "name": "stdout",
     "output_type": "stream",
     "text": [
      "D:/work/homework/fakenews/true_file2.txt 包含 10387 行, 175069 个词.\n",
      "D:/work/homework/fakenews/fake_file2.txt 包含 10413 行, 134932 个词.\n",
      "字典大小：25492\n"
     ]
    }
   ],
   "source": [
    "#根据单词返还单词的编码\n",
    "def word2index(word, diction):\n",
    "    if word in diction:\n",
    "        value = diction[word][0]\n",
    "    else:\n",
    "        value = -1\n",
    "    return(value)\n",
    "\n",
    "#根据编码获得单词\n",
    "def index2word(index, diction):\n",
    "    for w,v in diction.items():\n",
    "        if v[0] == index:\n",
    "            return(w)\n",
    "    return(None)\n",
    "\n",
    "pos_sentences, neg_sentences, diction = Prepare_data(good_file, bad_file, is_filter = True)\n",
    "st = sorted([(v[1], w) for w, v in diction.items()])"
   ]
  },
  {
   "cell_type": "code",
   "execution_count": 63,
   "metadata": {},
   "outputs": [
    {
     "data": {
      "text/plain": [
       "25492"
      ]
     },
     "execution_count": 63,
     "metadata": {},
     "output_type": "execute_result"
    }
   ],
   "source": [
    "len(diction)"
   ]
  },
  {
   "cell_type": "code",
   "execution_count": 64,
   "metadata": {},
   "outputs": [],
   "source": [
    "# 输入一个句子和相应的词典，得到这个句子的向量化表示\n",
    "# 向量的尺寸为词典中词汇的个数，i位置上面的数值为第i个单词在sentence中出现的频率\n",
    "def sentence2vec(sentence, dictionary):\n",
    "    vector = np.zeros(len(dictionary))\n",
    "    for l in sentence:\n",
    "        vector[l] += 1\n",
    "    return(1.0 * vector / len(sentence))\n",
    "\n",
    "# 遍历所有句子，将每一个词映射成编码\n",
    "dataset = [] #数据集\n",
    "labels = [] #标签\n",
    "sentences = [] #原始句子，调试用\n",
    "# pos/ture\n",
    "for sentence in pos_sentences:\n",
    "    new_sentence = []\n",
    "    for l in sentence:\n",
    "        if l in diction:\n",
    "            new_sentence.append(word2index(l, diction))\n",
    "    dataset.append(sentence2vec(new_sentence, diction))\n",
    "    labels.append(0) #正标签为0\n",
    "    sentences.append(sentence)\n",
    "\n",
    "# neg/fake\n",
    "for sentence in neg_sentences:\n",
    "    new_sentence = []\n",
    "    for l in sentence:\n",
    "        if l in diction:\n",
    "            new_sentence.append(word2index(l, diction))\n",
    "    dataset.append(sentence2vec(new_sentence, diction))\n",
    "    labels.append(1) #负标签为1\n",
    "    sentences.append(sentence)\n",
    "\n",
    "#打乱所有的数据顺序，形成数据集\n",
    "# indices为所有数据下标的一个全排列\n",
    "indices = np.random.permutation(len(dataset))\n",
    "\n",
    "#重新根据打乱的下标生成数据集dataset，标签集labels，以及对应的原始句子sentences\n",
    "dataset = [dataset[i] for i in indices]\n",
    "labels = [labels[i] for i in indices]\n",
    "sentences = [sentences[i] for i in indices]\n",
    "\n",
    "#对整个数据集进行划分，分为：训练集、校准集和测试集，其中校准和测试集合的长度都是整个数据集的10分之一\n",
    "test_size = len(dataset) // 10\n",
    "train_data = dataset[2 * test_size :]\n",
    "train_label = labels[2 * test_size :]\n",
    "\n",
    "valid_data = dataset[: test_size]\n",
    "valid_label = labels[: test_size]\n",
    "\n",
    "test_data = dataset[test_size : 2 * test_size]\n",
    "test_label = labels[test_size : 2 * test_size]"
   ]
  },
  {
   "cell_type": "code",
   "execution_count": 65,
   "metadata": {
    "collapsed": true
   },
   "outputs": [],
   "source": [
    "# 一个简单的前馈神经网络，三层，第一层线性层，加一个非线性ReLU，第二层线性层，中间有10个隐含层神经元\n",
    "\n",
    "# 输入维度为词典的大小：每一段评论的词袋模型\n",
    "model = nn.Sequential(\n",
    "    nn.Linear(len(diction), 10),\n",
    "    nn.ReLU(),\n",
    "    nn.Linear(10, 2),\n",
    "    nn.LogSoftmax(),\n",
    ")\n",
    "\n",
    "def rightness(predictions, labels):\n",
    "    \"\"\"计算预测错误率的函数，其中predictions是模型给出的一组预测结果，batch_size行num_classes列的矩阵，labels是数据之中的正确答案\"\"\"\n",
    "    pred = torch.max(predictions.data, 1)[1] # 对于任意一行（一个样本）的输出值的第1个维度，求最大，得到每一行的最大元素的下标\n",
    "    rights = pred.eq(labels.data.view_as(pred)).sum() #将下标与labels中包含的类别进行比较，并累计得到比较正确的数量\n",
    "    return rights, len(labels) #返回正确的数量和这一次一共比较了多少元素"
   ]
  },
  {
   "cell_type": "code",
   "execution_count": 66,
   "metadata": {},
   "outputs": [
    {
     "name": "stderr",
     "output_type": "stream",
     "text": [
      "C:\\ProgramData\\Anaconda3\\lib\\site-packages\\torch\\nn\\modules\\container.py:92: UserWarning: Implicit dimension choice for log_softmax has been deprecated. Change the call to include dim=X as an argument.\n",
      "  input = module(input)\n"
     ]
    },
    {
     "name": "stdout",
     "output_type": "stream",
     "text": [
      "第0轮，训练损失：0.82, 校验损失：0.69, 校验准确率: 0.52\n",
      "第0轮，训练损失：0.19, 校验损失：0.12, 校验准确率: 0.96\n",
      "第0轮，训练损失：0.14, 校验损失：0.09, 校验准确率: 0.98\n",
      "第0轮，训练损失：0.11, 校验损失：0.08, 校验准确率: 0.98\n",
      "第0轮，训练损失：0.10, 校验损失：0.08, 校验准确率: 0.98\n",
      "第0轮，训练损失：0.09, 校验损失：0.06, 校验准确率: 0.98\n",
      "第1轮，训练损失：0.09, 校验损失：0.06, 校验准确率: 0.98\n",
      "第1轮，训练损失：0.08, 校验损失：0.06, 校验准确率: 0.99\n",
      "第1轮，训练损失：0.07, 校验损失：0.07, 校验准确率: 0.98\n",
      "第1轮，训练损失：0.07, 校验损失：0.06, 校验准确率: 0.98\n",
      "第1轮，训练损失：0.06, 校验损失：0.09, 校验准确率: 0.98\n",
      "第1轮，训练损失：0.06, 校验损失：0.08, 校验准确率: 0.98\n",
      "第2轮，训练损失：0.05, 校验损失：0.07, 校验准确率: 0.98\n",
      "第2轮，训练损失：0.05, 校验损失：0.06, 校验准确率: 0.99\n",
      "第2轮，训练损失：0.05, 校验损失：0.07, 校验准确率: 0.99\n",
      "第2轮，训练损失：0.05, 校验损失：0.07, 校验准确率: 0.98\n",
      "第2轮，训练损失：0.04, 校验损失：0.10, 校验准确率: 0.98\n",
      "第2轮，训练损失：0.04, 校验损失：0.09, 校验准确率: 0.98\n",
      "第3轮，训练损失：0.04, 校验损失：0.09, 校验准确率: 0.98\n",
      "第3轮，训练损失：0.04, 校验损失：0.08, 校验准确率: 0.98\n",
      "第3轮，训练损失：0.04, 校验损失：0.08, 校验准确率: 0.99\n",
      "第3轮，训练损失：0.03, 校验损失：0.08, 校验准确率: 0.98\n",
      "第3轮，训练损失：0.03, 校验损失：0.11, 校验准确率: 0.98\n",
      "第3轮，训练损失：0.03, 校验损失：0.09, 校验准确率: 0.98\n",
      "第4轮，训练损失：0.03, 校验损失：0.09, 校验准确率: 0.98\n",
      "第4轮，训练损失：0.03, 校验损失：0.08, 校验准确率: 0.98\n",
      "第4轮，训练损失：0.03, 校验损失：0.09, 校验准确率: 0.98\n",
      "第4轮，训练损失：0.03, 校验损失：0.09, 校验准确率: 0.98\n",
      "第4轮，训练损失：0.03, 校验损失：0.14, 校验准确率: 0.98\n",
      "第4轮，训练损失：0.03, 校验损失：0.12, 校验准确率: 0.98\n",
      "第5轮，训练损失：0.03, 校验损失：0.10, 校验准确率: 0.98\n",
      "第5轮，训练损失：0.03, 校验损失：0.09, 校验准确率: 0.99\n",
      "第5轮，训练损失：0.02, 校验损失：0.10, 校验准确率: 0.99\n",
      "第5轮，训练损失：0.02, 校验损失：0.12, 校验准确率: 0.98\n",
      "第5轮，训练损失：0.02, 校验损失：0.14, 校验准确率: 0.98\n",
      "第5轮，训练损失：0.02, 校验损失：0.20, 校验准确率: 0.98\n",
      "第6轮，训练损失：0.02, 校验损失：0.15, 校验准确率: 0.98\n",
      "第6轮，训练损失：0.02, 校验损失：0.12, 校验准确率: 0.99\n",
      "第6轮，训练损失：0.02, 校验损失：0.12, 校验准确率: 0.98\n",
      "第6轮，训练损失：0.02, 校验损失：0.15, 校验准确率: 0.98\n",
      "第6轮，训练损失：0.02, 校验损失：0.16, 校验准确率: 0.98\n",
      "第6轮，训练损失：0.02, 校验损失：0.13, 校验准确率: 0.98\n",
      "第7轮，训练损失：0.02, 校验损失：0.17, 校验准确率: 0.98\n",
      "第7轮，训练损失：0.02, 校验损失：0.12, 校验准确率: 0.98\n",
      "第7轮，训练损失：0.02, 校验损失：0.12, 校验准确率: 0.98\n",
      "第7轮，训练损失：0.02, 校验损失：0.13, 校验准确率: 0.98\n",
      "第7轮，训练损失：0.02, 校验损失：0.12, 校验准确率: 0.99\n",
      "第7轮，训练损失：0.02, 校验损失：0.14, 校验准确率: 0.99\n",
      "第8轮，训练损失：0.02, 校验损失：0.15, 校验准确率: 0.99\n",
      "第8轮，训练损失：0.02, 校验损失：0.13, 校验准确率: 0.98\n",
      "第8轮，训练损失：0.02, 校验损失：0.12, 校验准确率: 0.98\n",
      "第8轮，训练损失：0.02, 校验损失：0.13, 校验准确率: 0.99\n",
      "第8轮，训练损失：0.02, 校验损失：0.14, 校验准确率: 0.99\n",
      "第8轮，训练损失：0.01, 校验损失：0.15, 校验准确率: 0.98\n",
      "第9轮，训练损失：0.01, 校验损失：0.18, 校验准确率: 0.99\n",
      "第9轮，训练损失：0.01, 校验损失：0.16, 校验准确率: 0.98\n",
      "第9轮，训练损失：0.01, 校验损失：0.17, 校验准确率: 0.98\n",
      "第9轮，训练损失：0.01, 校验损失：0.15, 校验准确率: 0.99\n",
      "第9轮，训练损失：0.01, 校验损失：0.15, 校验准确率: 0.98\n",
      "第9轮，训练损失：0.01, 校验损失：0.16, 校验准确率: 0.99\n"
     ]
    }
   ],
   "source": [
    "# 损失函数为交叉熵\n",
    "cost = torch.nn.NLLLoss()\n",
    "# 优化算法为Adam，可以自动调节学习率\n",
    "optimizer = torch.optim.Adam(model.parameters(), lr = 0.01)\n",
    "records = []\n",
    "\n",
    "#循环10个Epoch\n",
    "losses = []\n",
    "for epoch in range(10):\n",
    "    for i, data in enumerate(zip(train_data, train_label)):\n",
    "        x, y = data\n",
    "        \n",
    "        # 需要将输入的数据进行适当的变形，主要是要多出一个batch_size的维度，也即第一个为1的维度\n",
    "        x = Variable(torch.FloatTensor(x).view(1,-1))\n",
    "        # x的尺寸：batch_size=1, len_dictionary\n",
    "        # 标签也要加一层外衣以变成1*1的张量\n",
    "        y = Variable(torch.LongTensor(np.array([y])))\n",
    "        # y的尺寸：batch_size=1, 1\n",
    "        \n",
    "        # 清空梯度\n",
    "        optimizer.zero_grad()\n",
    "        # 模型预测\n",
    "        predict = model(x)\n",
    "        # 计算损失函数\n",
    "        loss = cost(predict, y)\n",
    "        # 将损失函数数值加入到列表中\n",
    "        losses.append(loss.data.numpy())\n",
    "        # 开始进行梯度反传\n",
    "        loss.backward()\n",
    "        # 开始对参数进行一步优化\n",
    "        optimizer.step()\n",
    "        \n",
    "        # 每隔3000步，跑一下校验数据集的数据，输出临时结果\n",
    "        if i % 3000 == 0:\n",
    "            val_losses = []\n",
    "            rights = []\n",
    "            # 在所有校验数据集上实验\n",
    "            for j, val in enumerate(zip(valid_data, valid_label)):\n",
    "                x, y = val\n",
    "                x = Variable(torch.FloatTensor(x).view(1,-1))\n",
    "                y = Variable(torch.LongTensor(np.array([y])))\n",
    "                predict = model(x)\n",
    "                # 调用rightness函数计算准确度\n",
    "                right = rightness(predict, y)\n",
    "                rights.append(right)\n",
    "                loss = cost(predict, y)\n",
    "                val_losses.append(loss.data.numpy())\n",
    "                \n",
    "            # 将校验集合上面的平均准确度计算出来\n",
    "            right_ratio = 1.0 * np.sum([i[0] for i in rights]) / np.sum([i[1] for i in rights])\n",
    "            print('第{}轮，训练损失：{:.2f}, 校验损失：{:.2f}, 校验准确率: {:.2f}'.format(epoch, np.mean(losses),\n",
    "                                                                        np.mean(val_losses), right_ratio))\n",
    "            records.append([np.mean(losses), np.mean(val_losses), right_ratio])\n",
    "            "
   ]
  },
  {
   "cell_type": "code",
   "execution_count": 67,
   "metadata": {
    "ExecuteTime": {
     "end_time": "2019-01-18T10:16:07.893453Z",
     "start_time": "2019-01-18T10:16:07.696302Z"
    }
   },
   "outputs": [
    {
     "data": {
      "text/plain": [
       "<matplotlib.legend.Legend at 0x258d9111320>"
      ]
     },
     "execution_count": 67,
     "metadata": {},
     "output_type": "execute_result"
    },
    {
     "data": {
      "image/png": "[encoded data removed]",
      "text/plain": [
       "<Figure size 432x288 with 1 Axes>"
      ]
     },
     "metadata": {},
     "output_type": "display_data"
    }
   ],
   "source": [
    "# 绘制误差曲线\n",
    "a = [i[0] for i in records]\n",
    "b = [i[1] for i in records]\n",
    "c = [i[2] for i in records]\n",
    "plt.plot(a, label = 'Train Loss')\n",
    "plt.plot(b, label = 'Valid Loss')\n",
    "plt.plot(c, label = 'Valid Accuracy')\n",
    "plt.xlabel('Steps')\n",
    "plt.ylabel('Loss & Accuracy')\n",
    "plt.legend()"
   ]
  },
  {
   "cell_type": "code",
   "execution_count": 68,
   "metadata": {
    "ExecuteTime": {
     "end_time": "2019-01-18T10:16:29.827631Z",
     "start_time": "2019-01-18T10:16:29.663508Z"
    }
   },
   "outputs": [
    {
     "data": {
      "text/plain": [
       "Text(0, 0.5, 'Weights')"
      ]
     },
     "execution_count": 68,
     "metadata": {},
     "output_type": "execute_result"
    },
    {
     "data": {
      "image/png": "[encoded data removed]",
      "text/plain": [
       "<Figure size 720x504 with 1 Axes>"
      ]
     },
     "metadata": {},
     "output_type": "display_data"
    }
   ],
   "source": [
    "# 绘制出第二个全链接层的权重大小\n",
    "# model[2]即提取第2层，网络一共4层，第0层为线性神经元，第1层为ReLU，第2层为第二层神经原链接，第3层为logsoftmax\n",
    "plt.figure(figsize = (10, 7))\n",
    "for i in range(model[2].weight.size()[0]):\n",
    "    #if i == 1:\n",
    "        weights = model[2].weight[i].data.numpy()\n",
    "        plt.plot(weights, 'o-', label = i)\n",
    "plt.legend()\n",
    "plt.xlabel('Neuron in Hidden Layer')\n",
    "plt.ylabel('Weights')"
   ]
  },
  {
   "cell_type": "code",
   "execution_count": 69,
   "metadata": {
    "ExecuteTime": {
     "end_time": "2019-01-18T10:19:25.940552Z",
     "start_time": "2019-01-18T10:19:25.832142Z"
    }
   },
   "outputs": [
    {
     "name": "stdout",
     "output_type": "stream",
     "text": [
      "\n",
      "\n",
      "第9个神经元\n",
      "max:\n",
      "goalposts\n",
      "disturb\n",
      "gaslighting\n",
      "expect\n",
      "supports\n",
      "snl\n",
      "heed\n",
      "submission\n",
      "eurasian\n",
      "alpha\n",
      "genre\n",
      "bone\n",
      "origin\n",
      "scrambles\n",
      "rare\n",
      "1970s\n",
      "renewed\n",
      "004\n",
      "plutonium\n",
      "min:\n",
      "would\n",
      "proposal\n",
      "margot\n",
      "for\n",
      "new\n",
      "times\n",
      "conditions\n",
      "sanger\n",
      "york\n",
      "health\n",
      "republican\n",
      "the\n",
      "pre\n",
      "existing\n",
      "undermine\n",
      "katz\n",
      "coverage\n",
      "repairs\n",
      "cuomo\n",
      "peddling\n"
     ]
    }
   ],
   "source": [
    "# 将第二层的各个神经元与输入层的链接权重，挑出来最大的权重和最小的权重，并考察每一个权重所对应的单词是什么，把单词打印出来\n",
    "# model[0]是取出第一层的神经元\n",
    "\n",
    "# for i in range(len(model[0].weight)):\n",
    "i=9\n",
    "print('\\n')\n",
    "print('第{}个神经元'.format(i))\n",
    "print('max:')\n",
    "st = sorted([(w,i) for i,w in enumerate(model[0].weight[i].data.numpy())])\n",
    "for i in range(1, 20):\n",
    "    word = index2word(st[-i][1],diction)\n",
    "    print(word)\n",
    "print('min:')\n",
    "for i in range(20):\n",
    "    word = index2word(st[i][1],diction)\n",
    "    print(word)\n"
   ]
  }
 ],
 "metadata": {
  "kernelspec": {
   "display_name": "Python 3",
   "language": "python",
   "name": "python3"
  },
  "language_info": {
   "codemirror_mode": {
    "name": "ipython",
    "version": 3
   },
   "file_extension": ".py",
   "mimetype": "text/x-python",
   "name": "python",
   "nbconvert_exporter": "python",
   "pygments_lexer": "ipython3",
   "version": "3.6.2"
  },
  "toc": {
   "nav_menu": {},
   "number_sections": true,
   "sideBar": true,
   "skip_h1_title": false,
   "toc_cell": false,
   "toc_position": {},
   "toc_section_display": true,
   "toc_window_display": false
  }
 },
 "nbformat": 4,
 "nbformat_minor": 2
}
